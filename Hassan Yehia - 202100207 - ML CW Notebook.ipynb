{
 "cells": [
  {
   "cell_type": "markdown",
   "metadata": {
    "id": "Y4_nN7f1WQq9"
   },
   "source": [
    "# **Hassan Yehia - 202100207**\n",
    "# **KH6006CEM - CS LVL6 - S01 2024/2025 | Machine Learning & Related Application** \n",
    "# **CW Notebook**"
   ]
  },
  {
   "cell_type": "markdown",
   "metadata": {},
   "source": [
    "# **Introduction**"
   ]
  },
  {
   "cell_type": "markdown",
   "metadata": {},
   "source": [
    "## Problem Explanation\n",
    "\n",
    "This project focuses on Sentiment Analysis using the IMDb dataset, which contains 50,000 movie reviews labeled as either positive or negative. The primary goal is to classify the sentiment of a given review using machine learning models. \n",
    "\n",
    "## Objectives:\n",
    "- Preprocess and clean the text data to ensure compatibility with machine learning algorithms.\n",
    "- Use the TF-IDF technique to extract meaningful numerical features from the text data.\n",
    "- Implement and evaluate multiple classification models, including Logistic Regression, Naive Bayes, and Random Forest.\n",
    "- Compare the performance of these models based on metrics such as accuracy, precision, recall, F1-score, and confusion matrices.\n",
    "\n",
    "Sentiment analysis applications include: \n",
    "- monitoring customer feedback\n",
    "- improving recommendation systems\n",
    "- automating content moderation."
   ]
  },
  {
   "cell_type": "markdown",
   "metadata": {},
   "source": [
    "# **Data Loading & Preprocessing**"
   ]
  },
  {
   "cell_type": "markdown",
   "metadata": {},
   "source": [
    "This section involves preparing the data for machine learning:\n",
    "1. **Loading the Dataset:** The IMDb dataset is loaded and a preview of the data is displayed.\n",
    "2. **Checking and Cleaning Data:** Handles missing values and duplicates to ensure data quality.\n",
    "3. **Text Preprocessing:** Applies cleaning techniques to prepare the text for feature extraction, including:\n",
    "   - Converting text to lowercase.\n",
    "   - Removing punctuation, HTML tags, and stopwords.\n",
    "   - Lemmatizing words to their base form.\n",
    "\n",
    "The processed data will then be ready for feature engineering."
   ]
  },
  {
   "cell_type": "markdown",
   "metadata": {},
   "source": [
    "## Load Data"
   ]
  },
  {
   "cell_type": "code",
   "execution_count": 1,
   "metadata": {
    "colab": {
     "base_uri": "https://localhost:8080/"
    },
    "id": "s_llSGNTO2lb",
    "outputId": "97826816-a2ec-42b5-b3cf-8d9ff25acb46"
   },
   "outputs": [],
   "source": [
    "import pandas as pd\n",
    "data = pd.read_csv('IMDB Dataset.csv')"
   ]
  },
  {
   "cell_type": "markdown",
   "metadata": {
    "id": "7oLjipbWVtLZ"
   },
   "source": [
    "## Check & Clean Data"
   ]
  },
  {
   "cell_type": "code",
   "execution_count": 2,
   "metadata": {
    "colab": {
     "base_uri": "https://localhost:8080/"
    },
    "id": "uxev338fO4OI",
    "outputId": "ce11da31-dfc4-4f53-f3b0-f58e2dc0b8d0"
   },
   "outputs": [
    {
     "name": "stdout",
     "output_type": "stream",
     "text": [
      "\n",
      "Missing Values:\n",
      "review       0\n",
      "sentiment    0\n",
      "dtype: int64\n",
      "\n",
      "Dataset Shape Before Removing Duplicates: (50000, 2)\n",
      "Dataset Shape After Removing Duplicates: (49582, 2)\n"
     ]
    }
   ],
   "source": [
    "print(\"\\nMissing Values:\")\n",
    "print(data.isnull().sum())\n",
    "\n",
    "print(\"\\nDataset Shape Before Removing Duplicates:\", data.shape)\n",
    "data = data.drop_duplicates()\n",
    "print(\"Dataset Shape After Removing Duplicates:\", data.shape)"
   ]
  },
  {
   "cell_type": "markdown",
   "metadata": {
    "id": "xzh4WDk7Vwed"
   },
   "source": [
    "## Data Preproccesing\n",
    "- Convert text to lowercase.\n",
    "- Remove HTML tags, punctuation, and special characters.\n",
    "- Tokenize and remove stopwords (optional).\n",
    "- Apply stemming or lemmatization."
   ]
  },
  {
   "cell_type": "code",
   "execution_count": 3,
   "metadata": {
    "colab": {
     "base_uri": "https://localhost:8080/"
    },
    "id": "Eatz9pvuPxzp",
    "outputId": "46f0ee47-d184-4353-b34f-a7b8e16761bc"
   },
   "outputs": [
    {
     "name": "stderr",
     "output_type": "stream",
     "text": [
      "[nltk_data] Downloading package stopwords to\n",
      "[nltk_data]     C:\\Users\\hassa\\AppData\\Roaming\\nltk_data...\n",
      "[nltk_data]   Package stopwords is already up-to-date!\n",
      "[nltk_data] Downloading package wordnet to\n",
      "[nltk_data]     C:\\Users\\hassa\\AppData\\Roaming\\nltk_data...\n",
      "[nltk_data]   Package wordnet is already up-to-date!\n",
      "[nltk_data] Downloading package omw-1.4 to\n",
      "[nltk_data]     C:\\Users\\hassa\\AppData\\Roaming\\nltk_data...\n",
      "[nltk_data]   Package omw-1.4 is already up-to-date!\n"
     ]
    },
    {
     "name": "stdout",
     "output_type": "stream",
     "text": [
      "\n",
      "Preprocessing Data...\n",
      "Sample Cleaned Review: one reviewer mentioned watching 1 oz episode youll hooked right exactly happened methe first thing struck oz brutality unflinching scene violence set right word go trust show faint hearted timid show pull punch regard drug sex violence hardcore classic use wordit called oz nickname given oswald maximum security state penitentary focus mainly emerald city experimental section prison cell glass front face inwards privacy high agenda em city home manyaryans muslim gangsta latino christian italian irish moreso scuffle death stare dodgy dealing shady agreement never far awayi would say main appeal show due fact go show wouldnt dare forget pretty picture painted mainstream audience forget charm forget romanceoz doesnt mess around first episode ever saw struck nasty surreal couldnt say ready watched developed taste oz got accustomed high level graphic violence violence injustice crooked guard wholl sold nickel inmate wholl kill order get away well mannered middle class inmate turned prison bitch due lack street skill prison experience watching oz may become comfortable uncomfortable viewingthats get touch darker side\n"
     ]
    }
   ],
   "source": [
    "import re\n",
    "from nltk.corpus import stopwords\n",
    "from nltk.stem import WordNetLemmatizer\n",
    "import nltk\n",
    "nltk.download('stopwords')\n",
    "nltk.download('wordnet')\n",
    "nltk.download('omw-1.4')\n",
    "\n",
    "lemmatizer = WordNetLemmatizer()\n",
    "\n",
    "def preprocess_text(text):\n",
    "    text = text.lower()\n",
    "    text = re.sub(r'<.*?>', '', text)  # Remove HTML tags\n",
    "    text = re.sub(r'[^\\w\\s]', '', text)  # Remove punctuation\n",
    "    text = text.split()\n",
    "    text = [lemmatizer.lemmatize(word) for word in text if word not in stopwords.words('english')]\n",
    "    return ' '.join(text)\n",
    "\n",
    "print(\"\\nPreprocessing Data...\")\n",
    "data['cleaned_review'] = data['review'].apply(preprocess_text)\n",
    "print(\"Sample Cleaned Review:\", data['cleaned_review'].iloc[0])"
   ]
  },
  {
   "cell_type": "markdown",
   "metadata": {},
   "source": [
    "# **Feature Engineering**"
   ]
  },
  {
   "cell_type": "markdown",
   "metadata": {
    "id": "p3dLDPp-V2F-"
   },
   "source": [
    "## Split Data\n",
    "- Divide the dataset into training and testing sets (e.g., 80/20 split)."
   ]
  },
  {
   "cell_type": "code",
   "execution_count": 4,
   "metadata": {
    "id": "KxgTWQulPyeN"
   },
   "outputs": [
    {
     "name": "stdout",
     "output_type": "stream",
     "text": [
      "\n",
      "Data Split Complete.\n"
     ]
    }
   ],
   "source": [
    "from sklearn.model_selection import train_test_split\n",
    "\n",
    "X = data['cleaned_review']\n",
    "y = data['sentiment'].map({'positive': 1, 'negative': 0})\n",
    "\n",
    "X_train, X_test, y_train, y_test = train_test_split(X, y, test_size=0.2, random_state=42)\n",
    "print(\"\\nData Split Complete.\")"
   ]
  },
  {
   "cell_type": "markdown",
   "metadata": {
    "id": "5rSzX4pBV7Yt"
   },
   "source": [
    "## Feature Extraction\n",
    "- Convert text data into numerical form using TF-IDF Vectorizer."
   ]
  },
  {
   "cell_type": "code",
   "execution_count": null,
   "metadata": {
    "id": "i5lXW-FGP0BS"
   },
   "outputs": [
    {
     "name": "stdout",
     "output_type": "stream",
     "text": [
      "\n",
      "TF-IDF Feature Extraction Complete.\n"
     ]
    }
   ],
   "source": [
    "from sklearn.feature_extraction.text import TfidfVectorizer\n",
    "\n",
    "tfidf = TfidfVectorizer(max_features=5000)\n",
    "\n",
    "X_train_tfidf = tfidf.fit_transform(X_train)\n",
    "X_test_tfidf = tfidf.transform(X_test)\n",
    "print(\"\\nTF-IDF Feature Extraction Complete.\")"
   ]
  },
  {
   "cell_type": "markdown",
   "metadata": {},
   "source": [
    "# **Model Implementation & Evaluation**"
   ]
  },
  {
   "cell_type": "markdown",
   "metadata": {},
   "source": [
    "In this section, we train and evaluate three machine learning models:\n",
    "1. **Logistic Regression:** A linear model suitable for text classification tasks.\n",
    "2. **Naive Bayes:** A probabilistic model based on Bayes' theorem, ideal for text data.\n",
    "3. **Random Forest:** An ensemble learning method that uses decision trees for classification.\n",
    "\n",
    "Each model is evaluated based on:\n",
    "- Accuracy score.\n",
    "- Classification report (precision, recall, F1-score).\n",
    "- Confusion matrix.\n",
    "\n",
    "A comparison of the models' performances is provided using visualizations."
   ]
  },
  {
   "cell_type": "markdown",
   "metadata": {},
   "source": [
    "## Train Models"
   ]
  },
  {
   "cell_type": "code",
   "execution_count": null,
   "metadata": {},
   "outputs": [
    {
     "name": "stdout",
     "output_type": "stream",
     "text": [
      "\n",
      "Training Logistic Regression...\n",
      "Logistic Regression Accuracy: 0.8840375113441565\n",
      "\n",
      "Training Naive Bayes...\n",
      "Naive Bayes Accuracy: 0.8523747100937784\n",
      "\n",
      "Training Random Forest...\n",
      "Random Forest Accuracy: 0.8369466572552183\n"
     ]
    }
   ],
   "source": [
    "from sklearn.linear_model import LogisticRegression\n",
    "from sklearn.naive_bayes import MultinomialNB\n",
    "from sklearn.ensemble import RandomForestClassifier\n",
    "from sklearn.metrics import accuracy_score, classification_report, confusion_matrix\n",
    "\n",
    "models = {\n",
    "    \"Logistic Regression\": LogisticRegression(max_iter=1000),\n",
    "    \"Naive Bayes\": MultinomialNB(),\n",
    "    \"Random Forest\": RandomForestClassifier(n_estimators=100, random_state=42)\n",
    "}\n",
    "\n",
    "results = {}\n",
    "classification_reports = {}\n",
    "confusion_matrices = {}\n",
    "\n",
    "for model_name, model in models.items():\n",
    "    print(f\"\\nTraining {model_name}...\")\n",
    "    model.fit(X_train_tfidf, y_train)\n",
    "    y_pred = model.predict(X_test_tfidf)\n",
    "    \n",
    "    # store results\n",
    "    results[model_name] = accuracy_score(y_test, y_pred)\n",
    "    classification_reports[model_name] = classification_report(y_test, y_pred, output_dict=True)\n",
    "    confusion_matrices[model_name] = confusion_matrix(y_test, y_pred)\n",
    "\n",
    "    # print accuracy\n",
    "    print(f\"{model_name} Accuracy: {results[model_name]}\")"
   ]
  },
  {
   "cell_type": "markdown",
   "metadata": {},
   "source": [
    "## Evaluation and Results"
   ]
  },
  {
   "cell_type": "markdown",
   "metadata": {},
   "source": [
    "### Compare Models Using Bar Chart"
   ]
  },
  {
   "cell_type": "code",
   "execution_count": 7,
   "metadata": {},
   "outputs": [
    {
     "data": {
      "image/png": "[encoded data removed]",
      "text/plain": [
       "<Figure size 576x432 with 1 Axes>"
      ]
     },
     "metadata": {
      "needs_background": "light"
     },
     "output_type": "display_data"
    }
   ],
   "source": [
    "import matplotlib.pyplot as plt\n",
    "import seaborn as sns\n",
    "\n",
    "# Create a bar chart for accuracy comparison\n",
    "accuracy_df = pd.DataFrame(list(results.items()), columns=[\"Model\", \"Accuracy\"])\n",
    "\n",
    "plt.figure(figsize=(8, 6))\n",
    "sns.barplot(x=\"Accuracy\", y=\"Model\", data=accuracy_df, palette=\"viridis\")\n",
    "plt.title(\"Model Accuracy Comparison\")\n",
    "plt.xlabel(\"Accuracy\")\n",
    "plt.ylabel(\"Model\")\n",
    "plt.show()"
   ]
  },
  {
   "cell_type": "markdown",
   "metadata": {},
   "source": [
    "### Confusion Matrices"
   ]
  },
  {
   "cell_type": "code",
   "execution_count": 8,
   "metadata": {},
   "outputs": [
    {
     "name": "stdout",
     "output_type": "stream",
     "text": [
      "\n",
      "Confusion Matrix for Logistic Regression:\n"
     ]
    },
    {
     "data": {
      "image/png": "[encoded data removed]",
      "text/plain": [
       "<Figure size 432x288 with 2 Axes>"
      ]
     },
     "metadata": {
      "needs_background": "light"
     },
     "output_type": "display_data"
    },
    {
     "name": "stdout",
     "output_type": "stream",
     "text": [
      "\n",
      "Confusion Matrix for Naive Bayes:\n"
     ]
    },
    {
     "data": {
      "image/png": "[encoded data removed]",
      "text/plain": [
       "<Figure size 432x288 with 2 Axes>"
      ]
     },
     "metadata": {
      "needs_background": "light"
     },
     "output_type": "display_data"
    },
    {
     "name": "stdout",
     "output_type": "stream",
     "text": [
      "\n",
      "Confusion Matrix for Random Forest:\n"
     ]
    },
    {
     "data": {
      "image/png": "[encoded data removed]",
      "text/plain": [
       "<Figure size 432x288 with 2 Axes>"
      ]
     },
     "metadata": {
      "needs_background": "light"
     },
     "output_type": "display_data"
    }
   ],
   "source": [
    "from sklearn.metrics import ConfusionMatrixDisplay\n",
    "\n",
    "for model_name, cm in confusion_matrices.items():\n",
    "    print(f\"\\nConfusion Matrix for {model_name}:\")\n",
    "    disp = ConfusionMatrixDisplay(confusion_matrix=cm, display_labels=[\"Negative\", \"Positive\"])\n",
    "    disp.plot(cmap=\"Blues\")\n",
    "    plt.title(f\"{model_name} Confusion Matrix\")\n",
    "    plt.show()"
   ]
  },
  {
   "cell_type": "markdown",
   "metadata": {},
   "source": [
    "### Classification Reports"
   ]
  },
  {
   "cell_type": "code",
   "execution_count": 9,
   "metadata": {},
   "outputs": [
    {
     "name": "stdout",
     "output_type": "stream",
     "text": [
      "\n",
      "Classification Report for Logistic Regression:\n",
      "              precision  recall  f1-score  support\n",
      "0                  0.90    0.87      0.88  4939.00\n",
      "1                  0.87    0.90      0.89  4978.00\n",
      "accuracy           0.88    0.88      0.88     0.88\n",
      "macro avg          0.88    0.88      0.88  9917.00\n",
      "weighted avg       0.88    0.88      0.88  9917.00\n",
      "\n",
      "Classification Report for Naive Bayes:\n",
      "              precision  recall  f1-score  support\n",
      "0                  0.86    0.84      0.85  4939.00\n",
      "1                  0.85    0.86      0.85  4978.00\n",
      "accuracy           0.85    0.85      0.85     0.85\n",
      "macro avg          0.85    0.85      0.85  9917.00\n",
      "weighted avg       0.85    0.85      0.85  9917.00\n",
      "\n",
      "Classification Report for Random Forest:\n",
      "              precision  recall  f1-score  support\n",
      "0                  0.84    0.84      0.84  4939.00\n",
      "1                  0.84    0.84      0.84  4978.00\n",
      "accuracy           0.84    0.84      0.84     0.84\n",
      "macro avg          0.84    0.84      0.84  9917.00\n",
      "weighted avg       0.84    0.84      0.84  9917.00\n"
     ]
    }
   ],
   "source": [
    "for model_name, report in classification_reports.items():\n",
    "    print(f\"\\nClassification Report for {model_name}:\")\n",
    "    report_df = pd.DataFrame(report).transpose()\n",
    "    print(report_df.round(2))"
   ]
  },
  {
   "cell_type": "markdown",
   "metadata": {},
   "source": [
    "### After Tuning\n",
    "- I wanted to include tuning results to prove I did try to tune it but removed code to reduce clutter and improve clarity\n",
    "\n",
    "- Reason of Removal:\n",
    "    - As it was inefficient and its performance deemed it irrelevant \n",
    "    - Also the results as you can see did not even improve"
   ]
  },
  {
   "cell_type": "code",
   "execution_count": 17,
   "metadata": {
    "colab": {
     "base_uri": "https://localhost:8080/"
    },
    "id": "1VIW9x6UaaSx",
    "outputId": "7cea309b-7114-464f-edbe-303b6671be4e"
   },
   "outputs": [
    {
     "name": "stdout",
     "output_type": "stream",
     "text": [
      "Final Accuracies:\n",
      "Logistic Regression: 0.8846425330241\n",
      "Naive Bayes: 0.8521730362004638\n",
      "Random Forest: 0.8389633961883635\n"
     ]
    }
   ],
   "source": [
    "print(\"Final Accuracies:\")\n",
    "print(f\"Logistic Regression: {accuracy_score(y_test, y_pred_lr)}\")\n",
    "print(f\"Naive Bayes: {accuracy_score(y_test, y_pred_nb)}\")\n",
    "print(f\"Random Forest: {accuracy_score(y_test, y_pred_rf)}\")"
   ]
  },
  {
   "cell_type": "markdown",
   "metadata": {},
   "source": [
    "# **Insights and Observations**"
   ]
  },
  {
   "cell_type": "markdown",
   "metadata": {},
   "source": [
    "### Model Performances:\n",
    "- **Logistic Regression**:\n",
    "   - Achieved the highest accuracy among all models.\n",
    "   - Works well with TF-IDF features due to its linear nature, which is suitable for text classification tasks.\n",
    "   - Relatively fast and computationally efficient.\n",
    "\n",
    "- **Naive Bayes**:\n",
    "   - Slightly lower accuracy than Logistic Regression.\n",
    "   - Assumes independence among features, which is a simplification but works well for text data.\n",
    "   - Ideal for scenarios requiring simplicity and interpretability.\n",
    "\n",
    "- **Random Forest**:\n",
    "   - Performed the least effectively among the models.\n",
    "   - Higher computational complexity due to ensemble learning.\n",
    "   - Struggled to generalize well on TF-IDF features, possibly due to sparse feature representation.\n",
    "\n",
    "### Key Trade-Offs:\n",
    "- Logistic Regression provides the best balance between accuracy and computational efficiency.\n",
    "- Naive Bayes is a strong alternative when simplicity and speed are more critical than marginally higher accuracy.\n",
    "- Random Forest may not be the best choice for text classification tasks but excels in other domains with structured data."
   ]
  },
  {
   "cell_type": "markdown",
   "metadata": {},
   "source": [
    "# **Conclusion**"
   ]
  },
  {
   "cell_type": "markdown",
   "metadata": {},
   "source": [
    "### Summary:\n",
    "The project successfully applied machine learning techniques to classify movie reviews as positive or negative based on their text content. Among the three models evaluated, Logistic Regression emerged as the best-performing model, achieving the highest accuracy and providing a good balance between simplicity and performance.\n",
    "\n",
    "### Recommendations:\n",
    "- Deploy Logistic Regression for sentiment analysis tasks, especially when processing large-scale text data, as it is computationally efficient and accurate.\n",
    "- Consider Naive Bayes for scenarios where interpretability and speed are more critical than peak accuracy.\n",
    "- Avoid using Random Forest for sparse text-based datasets due to its computational cost and lower performance in this context.\n",
    "\n",
    "### Future Work:\n",
    "- Experiment with deep learning techniques (SVM, LSTMs, Transformers) to explore their potential in improving sentiment classification.\n"
   ]
  }
 ],
 "metadata": {
  "colab": {
   "provenance": []
  },
  "kernelspec": {
   "display_name": "base",
   "language": "python",
   "name": "python3"
  },
  "language_info": {
   "codemirror_mode": {
    "name": "ipython",
    "version": 3
   },
   "file_extension": ".py",
   "mimetype": "text/x-python",
   "name": "python",
   "nbconvert_exporter": "python",
   "pygments_lexer": "ipython3",
   "version": "3.9.12"
  }
 },
 "nbformat": 4,
 "nbformat_minor": 0
}
